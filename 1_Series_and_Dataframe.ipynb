{
 "cells": [
  {
   "cell_type": "code",
   "execution_count": null,
   "metadata": {},
   "outputs": [],
   "source": [
    "!#/usr/bin/python3\n",
    "\n",
    "from IPython.core.interactiveshell import InteractiveShell\n",
    "InteractiveShell.ast_node_interactivity = \"all\""
   ]
  },
  {
   "cell_type": "markdown",
   "metadata": {},
   "source": [
    "Pandas is one of the most used open source libraries for importing and analyzing data available in Python today. It provides convenient way to import, view, split, apply and combine array-like data. It is not only convenient, but efficient as well. "
   ]
  },
  {
   "cell_type": "code",
   "execution_count": null,
   "metadata": {},
   "outputs": [],
   "source": [
    "import pandas as pd\n",
    "import numpy as np\n",
    "\n",
    "display(f\"Pandas version: {pd.__version__}\")"
   ]
  },
  {
   "attachments": {},
   "cell_type": "markdown",
   "metadata": {},
   "source": [
    "## Pandas Data Structures -- Series & DataFrame\n",
    "\n",
    "The core value of Pandas comes through the data structure options it provides, primarily \n",
    "- Series (labeled, homogenously-typed, one-dimensional arrays)\n",
    "- DataFrames (labeled, potentially heterogenously-typed, two-dimensional arrays)"
   ]
  },
  {
   "attachments": {},
   "cell_type": "markdown",
   "metadata": {},
   "source": [
    "## Pandas Series\n",
    "\n",
    "### Create Series "
   ]
  },
  {
   "cell_type": "code",
   "execution_count": null,
   "metadata": {},
   "outputs": [],
   "source": [
    "# Create empty Series\n",
    "\n",
    "s = pd.Series(dtype='float64')"
   ]
  },
  {
   "cell_type": "code",
   "execution_count": null,
   "metadata": {},
   "outputs": [],
   "source": [
    "\n",
    "# Create Series from dictionary \n",
    "\n",
    "d = {'a': 1, 'b': 2, 'c': 3}\n",
    "s = pd.Series(d)"
   ]
  },
  {
   "cell_type": "code",
   "execution_count": null,
   "metadata": {},
   "outputs": [],
   "source": [
    "# Create Series from Numpy array\n",
    "\n",
    "a = np.array([1,2,3,4])\n",
    "s = pd.Series(a, copy=False, dtype=float)"
   ]
  },
  {
   "cell_type": "code",
   "execution_count": null,
   "metadata": {},
   "outputs": [],
   "source": [
    "# Create Series from Numpy array with a defined index \n",
    "\n",
    "data = np.array(['a','b','c','d'])\n",
    "s = pd.Series(data,index=[10,11,12,13])"
   ]
  },
  {
   "cell_type": "code",
   "execution_count": null,
   "metadata": {},
   "outputs": [],
   "source": [
    "# Create a Series from Scalar\n",
    "\n",
    "s = pd.Series(5, index=[0, 1, 2, 3])"
   ]
  },
  {
   "attachments": {},
   "cell_type": "markdown",
   "metadata": {},
   "source": [
    "### Select Series data"
   ]
  },
  {
   "cell_type": "code",
   "execution_count": null,
   "metadata": {},
   "outputs": [],
   "source": [
    "s = pd.Series([1,2,3,4,5],index = ['a','b','c','d','e'])\n",
    "\n",
    "# Retrieve first element\n",
    "s[0]\n",
    "\n",
    "# Retrieve first 3 elements \n",
    "s[:3]\n",
    "\n",
    "# Retieve last 3 elements \n",
    "s[:-3]\n",
    "\n",
    "# Retieve data via index \n",
    "s['a']\n",
    "\n",
    "# Retrieve multiple elements via index \n",
    "s[['a', 'c', 'd']]"
   ]
  },
  {
   "attachments": {},
   "cell_type": "markdown",
   "metadata": {},
   "source": [
    "### Series Functions"
   ]
  },
  {
   "cell_type": "code",
   "execution_count": null,
   "metadata": {},
   "outputs": [],
   "source": [
    "# Return Series as an array \n",
    "\n",
    "s.values"
   ]
  },
  {
   "cell_type": "code",
   "execution_count": null,
   "metadata": {},
   "outputs": [],
   "source": [
    "# Returns shape and size of the series\n",
    "\n",
    "s.shape\n",
    "s.size "
   ]
  },
  {
   "cell_type": "code",
   "execution_count": null,
   "metadata": {},
   "outputs": [],
   "source": [
    "# Cast Series as another data type \n",
    "s.astype('int32')\n",
    "\n",
    "# Count non-null values in Series \n",
    "s.count()\n",
    "\n",
    "# Cumulative Sum \n",
    "s.cumsum()\n",
    "\n",
    "# Drop missing values\n",
    "s.dropna()"
   ]
  },
  {
   "attachments": {},
   "cell_type": "markdown",
   "metadata": {},
   "source": [
    "## Pandas DataFrame\n",
    "\n",
    "A DataFrame is a two-dimensional structure, where data is aligned in a tabular fashion in rows and columns. \n",
    "\n",
    "The columns of a dataframe are potentially heterogenously typed and the size is mutable. The axes are labeled, which allows for performing arithematic operations on the rows and columns.\n",
    "\n",
    "### Create DataFrame"
   ]
  },
  {
   "cell_type": "code",
   "execution_count": null,
   "metadata": {},
   "outputs": [],
   "source": [
    "# Create empty dataframe \n",
    "\n",
    "df = pd.DataFrame()"
   ]
  },
  {
   "cell_type": "code",
   "execution_count": null,
   "metadata": {},
   "outputs": [],
   "source": [
    "# Create dataframe from list\n",
    "\n",
    "data = [1,2,3,4,5]\n",
    "df = pd.DataFrame(data)\n",
    "\n",
    "data = [['Asia',1], ['Africa',2], ['Europe',3], ['Australia',4]]\n",
    "df = pd.DataFrame(data, columns=['Continent', 'Rank'])"
   ]
  },
  {
   "cell_type": "code",
   "execution_count": null,
   "metadata": {},
   "outputs": [],
   "source": [
    "# Create dataframe from Dict of ndarrays/lists\n",
    "\n",
    "data = {'Continent':['Asia','Africa','Europe','Australia'],'Rank':[1,2,3,4]}\n",
    "df = pd.DataFrame(data, index=['rank_1','rank_2','rank_3','rank_4'])"
   ]
  },
  {
   "cell_type": "code",
   "execution_count": null,
   "metadata": {},
   "outputs": [],
   "source": [
    "# Create a dataframe from List of Dicts\n",
    "\n",
    "data = [{'a':1, 'b':2}, {'a':12, 'b':13, 'c':14}]\n",
    "pd.DataFrame(data, index=['first', 'second'])"
   ]
  },
  {
   "cell_type": "code",
   "execution_count": null,
   "metadata": {},
   "outputs": [],
   "source": [
    "# Create a DataFrame from Dict of Series\n",
    "\n",
    "data = {'one' : pd.Series([1, 2, 3], index=['a', 'b', 'c']),\n",
    "        'two' : pd.Series([1, 2, 3, 4], index=['a', 'b', 'c', 'd'])}\n",
    "\n",
    "df = pd.DataFrame(data)"
   ]
  },
  {
   "cell_type": "code",
   "execution_count": null,
   "metadata": {},
   "outputs": [],
   "source": [
    "# DataFrame Shape and size\n",
    "\n",
    "df.shape\n",
    "df.size"
   ]
  },
  {
   "attachments": {},
   "cell_type": "markdown",
   "metadata": {},
   "source": [
    "### Select, Add and Delete DataFrame data"
   ]
  },
  {
   "cell_type": "code",
   "execution_count": null,
   "metadata": {},
   "outputs": [],
   "source": [
    "data = {'Continent':['Asia','Africa','Europe','Australia'],'Rank':[1,2,3,4]}\n",
    "df = pd.DataFrame(data, index=['rank_1','rank_2','rank_3','rank_4'])"
   ]
  },
  {
   "cell_type": "code",
   "execution_count": null,
   "metadata": {},
   "outputs": [],
   "source": [
    "# Select column(s)\n",
    "df['Continent']\n",
    "\n",
    "df.iloc[:,0]\n",
    "\n",
    "df.loc[:, 'Continent']\n",
    "\n",
    "# Select row(s)\n",
    "df.loc['rank_1']\n",
    "\n",
    "df.iloc[0]\n",
    "\n",
    "df[0:3]"
   ]
  },
  {
   "cell_type": "code",
   "execution_count": null,
   "metadata": {},
   "outputs": [],
   "source": [
    "# Add column(s)\n",
    "population = ['4.5B', '1.2B', '746M', '26M']\n",
    "df['population'] = population\n",
    "\n",
    "# Add row(s)\n",
    "\n",
    "df2 = pd.DataFrame({'Continent': 'Antarctica', 'Rank': 5, 'population': '4K'}, index=['rank_5'])\n",
    "df = df.append(df2, ignore_index = True)\n",
    "df\n"
   ]
  },
  {
   "cell_type": "code",
   "execution_count": null,
   "metadata": {},
   "outputs": [],
   "source": [
    "# Delete column(s)\n",
    "\n",
    "del df['population']\n",
    "\n",
    "# Delete row(s)\n",
    "\n",
    "df.drop(4)"
   ]
  }
 ],
 "metadata": {
  "kernelspec": {
   "display_name": "Python 3",
   "language": "python",
   "name": "python3"
  },
  "language_info": {
   "codemirror_mode": {
    "name": "ipython",
    "version": 3
   },
   "file_extension": ".py",
   "mimetype": "text/x-python",
   "name": "python",
   "nbconvert_exporter": "python",
   "pygments_lexer": "ipython3",
   "version": "3.10.9"
  },
  "orig_nbformat": 4,
  "vscode": {
   "interpreter": {
    "hash": "aee8b7b246df8f9039afb4144a1f6fd8d2ca17a180786b69acc140d282b71a49"
   }
  }
 },
 "nbformat": 4,
 "nbformat_minor": 2
}
